{
 "cells": [
  {
   "cell_type": "markdown",
   "metadata": {},
   "source": [
    "## <center> **Credit Card Fraud (Anomaly/Outlier) Detection** \n",
    "<center><em>The processes of determining an entry among entries that does not seem to belong. In this case we are using the Anonymized Credit Card dataset from Kaggle, which has  transactions labeled as fraudulent or genuine to create an ML Fraud Detection model.</em></center>\n",
    "<br>\n",
    "<center><img src=\"https://github.com/kkrusere/Credit-Card-Fraud-Anomaly-Outlier-Detection/blob/main/Assets/CCFD.png\" width=600/></center>\n",
    "\n",
    "***Project Contributors:*** Kuzi Rusere<br>\n",
    "**MBA streamlit App URL:** N/A"
   ]
  },
  {
   "cell_type": "markdown",
   "metadata": {},
   "source": [
    "Anomaly detection (also referred to as outlier detection and sometimes as novelty detection) is generally understood to be the identification of rare items, events, or observations that deviate significantly from the majority of the data and do not conform to a well-defined notion of normal behavior.  **Supervised anomaly detection** techniques require a data set that has been labeled as \"normal\" and \"abnormal\" and involves training a classifier. **Unsupervised anomaly detection** techniques assume the data is unlabelled and are by far the most commonly used due to their wider and relevant application. **Semi-supervised anomaly detection** techniques assume that some portion of the data is labeled. \n",
    "\n",
    "* An anomaly is a point or collection of points that are relatively distant from other points in a multi-dimensional space of features.\n",
    "* An outlier is an observation (or subset of observations) that appears to be inconsistent with the remainder of that set of data.\n",
    "\n",
    "There are multiple methods/approaches to undertaking anomaly (or outlier) detection and these are sort-of classified into 3:\n",
    "* **Statistical**, \n",
    ">\n",
    "\n",
    "* (General/Classical) **Machine Learning**, \n",
    ">\n",
    "\n",
    "* **Deep Learning** \n",
    ">\n",
    "\n"
   ]
  },
  {
   "cell_type": "code",
   "execution_count": null,
   "metadata": {},
   "outputs": [],
   "source": []
  },
  {
   "cell_type": "code",
   "execution_count": null,
   "metadata": {},
   "outputs": [],
   "source": []
  }
 ],
 "metadata": {
  "kernelspec": {
   "display_name": "Python 3.9.5 ('capstone')",
   "language": "python",
   "name": "python3"
  },
  "language_info": {
   "name": "python",
   "version": "3.9.5"
  },
  "orig_nbformat": 4,
  "vscode": {
   "interpreter": {
    "hash": "6c67f8adbebdea49f93c63d2a2dcd5cb4fed3a722249876be11f90d0fd0a91fc"
   }
  }
 },
 "nbformat": 4,
 "nbformat_minor": 2
}
